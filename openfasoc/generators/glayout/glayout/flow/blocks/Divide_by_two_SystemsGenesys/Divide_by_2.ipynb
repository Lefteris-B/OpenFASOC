{
 "cells": [
  {
   "cell_type": "markdown",
   "metadata": {},
   "source": [
    "Python Code Overview\n",
    "The Python code in this Jupyter notebook builds and places components in the divide-by-2 circuit using the sky130 PDK and gdsfactory layout library.\n",
    "\n",
    "create_nmos_latch Function: Defines a single NMOS-based latch with eight NMOS transistors. Transistors are arranged in the current mirror, transmission gate, and cross-coupled inverter configurations. The function:\n",
    "\n",
    "Creates NMOS transistors with specific widths and lengths.\n",
    "Positions and connects these transistors using both straight and C-routes for proper wiring.\n",
    "Adds ports for input (D, Dp), clock (CLK, CLKN), output (Q, Qp), and power (VDD, VSS).\n",
    "create_divide_by_two_circuit Function: Builds the entire divide-by-2 circuit by instantiating two NMOS latches.\n",
    "\n",
    "Places the second latch below the first latch with adequate separation.\n",
    "Connects the output of the first latch to the input of the second and vice versa (feedback).\n",
    "Adds ports for the clock (CLK, CLKN), output (OUT, OUT_B), and power (VDD, VSS).\n",
    "Connects power ports of both latches to ensure consistent power distribution.\n",
    "Circuit Display and GDS Export:\n",
    "\n",
    "After creating the divide-by-two component, display_component shows a scaled view of the component.\n",
    "The component is written to a GDS file, divide_two.gds, for further physical verification and layout."
   ]
  },
  {
   "cell_type": "code",
   "execution_count": null,
   "metadata": {
    "colab": {
     "base_uri": "https://localhost:8080/",
     "height": 1000
    },
    "id": "z1O_2qcOtc4u",
    "outputId": "de5c1dbc-10c3-4c4c-a1df-a9adc300b7f7"
   },
   "outputs": [],
   "source": [
    "# Setup the environment for the OpenFASOC GDSFactory generator\n",
    "# You only need to run this block once!\n",
    "\n",
    "# Clone OpenFASoC\n",
    "!git clone https://github.com/idea-fasoc/OpenFASOC\n",
    "# Install python dependencies\n",
    "!pip install sky130\n",
    "!pip install gf180 prettyprinttree svgutils\n",
    "!pip install gdsfactory==7.7.0\n",
    "\n",
    "import pathlib\n",
    "import os\n",
    "# Install KLayout (via conda)\n",
    "!curl -Ls https://micro.mamba.pm/api/micromamba/linux-64/latest | tar -xvj bin/micromamba\n",
    "conda_prefix_path = pathlib.Path('conda-env')\n",
    "CONDA_PREFIX = str(conda_prefix_path.resolve())\n",
    "%env CONDA_PREFIX={CONDA_PREFIX}\n",
    "\n",
    "!bin/micromamba create --yes --prefix $CONDA_PREFIX\n",
    "# Install from the litex-hub channel\n",
    "!bin/micromamba install --yes --prefix $CONDA_PREFIX \\\n",
    "                        --channel litex-hub \\\n",
    "                        --channel main \\\n",
    "                        klayout"
   ]
  },
  {
   "cell_type": "code",
   "execution_count": null,
   "metadata": {
    "colab": {
     "base_uri": "https://localhost:8080/"
    },
    "id": "Q42D2FwTtnep",
    "outputId": "45ddb2d1-201d-48b4-fd4e-971eb031653a"
   },
   "outputs": [],
   "source": [
    "# Setup the environment for the OpenFASOC GDSFactory generator\n",
    "\n",
    "# Adding micro-mamba binary directory to the PATH\n",
    "# This directory contains Klayout\n",
    "import pathlib\n",
    "import os\n",
    "conda_prefix_path = pathlib.Path('conda-env')\n",
    "CONDA_PREFIX = str(conda_prefix_path.resolve())\n",
    "%env CONDA_PREFIX={CONDA_PREFIX}\n",
    "# Add conda packages to the PATH\n",
    "PATH = os.environ['PATH']\n",
    "%env PATH={PATH}:{CONDA_PREFIX}/bin\n",
    "\n",
    "%cd /content/OpenFASOC/openfasoc/generators/glayout"
   ]
  },
  {
   "cell_type": "code",
   "execution_count": null,
   "metadata": {
    "colab": {
     "base_uri": "https://localhost:8080/"
    },
    "id": "QBLvF3RmWLDs",
    "outputId": "27d018d3-00c6-4d38-e779-6ecf4e9c2b4f"
   },
   "outputs": [],
   "source": [
    "%cd /content/OpenFASOC/openfasoc/generators/glayout\n",
    "!pip install -e ."
   ]
  },
  {
   "cell_type": "code",
   "execution_count": null,
   "metadata": {
    "colab": {
     "base_uri": "https://localhost:8080/"
    },
    "id": "7PzrVo7iW1Jf",
    "outputId": "adc44ea6-1e71-423a-94f8-b877a5ea7309"
   },
   "outputs": [],
   "source": [
    "!pip show glayout"
   ]
  },
  {
   "cell_type": "code",
   "execution_count": null,
   "metadata": {
    "id": "QoIgABmKWS6h"
   },
   "outputs": [],
   "source": [
    "import glayout"
   ]
  },
  {
   "cell_type": "code",
   "execution_count": null,
   "metadata": {
    "id": "WyTs66GIwOdh"
   },
   "outputs": [],
   "source": [
    "import gdstk\n",
    "import svgutils.transform as sg\n",
    "import IPython.display\n",
    "from IPython.display import clear_output\n",
    "import ipywidgets as widgets\n",
    "\n",
    "# Redirect all outputs here\n",
    "hide = widgets.Output()\n",
    "\n",
    "def display_gds(gds_file, scale = 3):\n",
    "  # Generate an SVG image\n",
    "  top_level_cell = gdstk.read_gds(gds_file).top_level()[0]\n",
    "  top_level_cell.write_svg('out.svg')\n",
    "  # Scale the image for displaying\n",
    "  fig = sg.fromfile('out.svg')\n",
    "  fig.set_size((str(float(fig.width) * scale), str(float(fig.height) * scale)))\n",
    "  fig.save('out.svg')\n",
    "\n",
    "  # Display the image\n",
    "  IPython.display.display(IPython.display.SVG('out.svg'))\n",
    "\n",
    "def display_component(component, scale = 3):\n",
    "  # Save to a GDS file\n",
    "  with hide:\n",
    "    component.write_gds(\"out.gds\")\n",
    "  display_gds('out.gds', scale)\n"
   ]
  },
  {
   "cell_type": "code",
   "execution_count": null,
   "metadata": {
    "colab": {
     "base_uri": "https://localhost:8080/",
     "height": 481
    },
    "id": "9jJsRiktFAeA",
    "outputId": "05276b34-670f-44e6-e2aa-5d19b9474696"
   },
   "outputs": [],
   "source": [
    "#Latch template\n",
    "from glayout.flow.pdk.sky130_mapped import sky130_mapped_pdk as sky130\n",
    "from gdsfactory import Component\n",
    "from glayout.flow.primitives.fet import nmos\n",
    "from glayout.flow.routing.straight_route import straight_route\n",
    "from glayout.flow.routing.c_route import c_route\n",
    "\n",
    "def create_nmos_latch_layout(pdk):\n",
    "    latch = Component(\"nmos_latch\")\n",
    "\n",
    "    # Create NMOS transistors\n",
    "    m2 = latch << nmos(pdk, width=1, length=0.15)\n",
    "    m7 = latch << nmos(pdk, width=1, length=0.15)\n",
    "    m3 = latch << nmos(pdk, width=2, length=0.15)\n",
    "    m4 = latch << nmos(pdk, width=2, length=0.15)\n",
    "    m5 = latch << nmos(pdk, width=2, length=0.15)\n",
    "    m6 = latch << nmos(pdk, width=2, length=0.15)\n",
    "    m8 = latch << nmos(pdk, width=2, length=0.15)\n",
    "\n",
    "    # Position transistors\n",
    "    spacing = pdk.util_max_metal_seperation() + m2.size[0]\n",
    "    m7.movex(6 * spacing)\n",
    "    m3.movex(2 * spacing)\n",
    "    m4.movex(3 * spacing)\n",
    "    m5.movex(4 * spacing)\n",
    "    m6.movex(5 * spacing)\n",
    "    m8.movex(spacing)\n",
    "\n",
    "    # Routing\n",
    "    # Connect transmission gates\n",
    "    latch << straight_route(pdk, m2.ports[\"multiplier_0_drain_E\"], m8.ports[\"multiplier_0_source_E\"])\n",
    "    latch << straight_route(pdk, m7.ports[\"multiplier_0_drain_E\"], m6.ports[\"multiplier_0_source_E\"])\n",
    "\n",
    "    # Connect current mirror\n",
    "    latch << straight_route(pdk, m3.ports[\"multiplier_0_drain_E\"], m4.ports[\"multiplier_0_drain_E\"])\n",
    "    latch << straight_route(pdk, m4.ports[\"multiplier_0_drain_E\"], m5.ports[\"multiplier_0_drain_E\"])\n",
    "    latch << straight_route(pdk, m3.ports[\"multiplier_0_gate_E\"], m4.ports[\"multiplier_0_gate_E\"])\n",
    "    latch << straight_route(pdk, m4.ports[\"multiplier_0_gate_E\"], m5.ports[\"multiplier_0_gate_E\"])\n",
    "\n",
    "    # Connect cross-coupled inverters\n",
    "    latch << c_route(pdk, m6.ports[\"multiplier_0_drain_E\"], m8.ports[\"multiplier_0_gate_E\"])\n",
    "    latch << c_route(pdk, m8.ports[\"multiplier_0_drain_E\"], m6.ports[\"multiplier_0_gate_E\"])\n",
    "\n",
    "    # Connect to current mirror\n",
    "    latch << straight_route(pdk, m6.ports[\"multiplier_0_source_E\"], m5.ports[\"multiplier_0_drain_E\"])\n",
    "    latch << straight_route(pdk, m8.ports[\"multiplier_0_source_E\"], m5.ports[\"multiplier_0_drain_E\"])\n",
    "\n",
    "    # Add ports\n",
    "    latch.add_port(\"D\", port=m2.ports[\"multiplier_0_source_E\"])\n",
    "    latch.add_port(\"Dp\", port=m7.ports[\"multiplier_0_source_E\"])\n",
    "    latch.add_port(\"CLK\", port=m2.ports[\"multiplier_0_gate_E\"])\n",
    "    latch.add_port(\"CLKN\", port=m7.ports[\"multiplier_0_gate_E\"])\n",
    "    latch.add_port(\"Q\", port=m6.ports[\"multiplier_0_drain_E\"])\n",
    "    latch.add_port(\"Qp\", port=m8.ports[\"multiplier_0_drain_E\"])\n",
    "    latch.add_port(\"VDD\", port=m3.ports[\"multiplier_0_drain_E\"])\n",
    "    latch.add_port(\"VSS\", port=m5.ports[\"multiplier_0_source_E\"])\n",
    "\n",
    "    return latch\n",
    "\n",
    "# Create the NMOS-only latch layout using sky130 PDK\n",
    "nmos_latch = create_nmos_latch_layout(sky130)\n",
    "display_component(nmos_latch, scale=3)\n",
    "nmos_latch.write_gds(\"nmos_latch_layout_corrected_ports.gds\")"
   ]
  },
  {
   "cell_type": "code",
   "execution_count": null,
   "metadata": {
    "colab": {
     "base_uri": "https://localhost:8080/",
     "height": 789
    },
    "id": "5c61zuS2Ipig",
    "outputId": "b1364557-edc3-4adc-962b-3678cb05f769"
   },
   "outputs": [],
   "source": [
    "#divider template\n",
    "from glayout.flow.pdk.sky130_mapped import sky130_mapped_pdk as sky130\n",
    "from gdsfactory import Component\n",
    "from glayout.flow.primitives.fet import nmos\n",
    "from glayout.flow.routing.straight_route import straight_route\n",
    "from glayout.flow.routing.c_route import c_route\n",
    "\n",
    "def create_nmos_latch(pdk):\n",
    "    latch = Component(\"nmos_latch\")\n",
    "\n",
    "    # Create NMOS transistors\n",
    "    m2 = latch << nmos(pdk, width=1, length=0.15)\n",
    "    m7 = latch << nmos(pdk, width=1, length=0.15)\n",
    "    m3 = latch << nmos(pdk, width=2, length=0.15)\n",
    "    m4 = latch << nmos(pdk, width=2, length=0.15)\n",
    "    m5 = latch << nmos(pdk, width=2, length=0.15)\n",
    "    m6 = latch << nmos(pdk, width=2, length=0.15)\n",
    "    m8 = latch << nmos(pdk, width=2, length=0.15)\n",
    "\n",
    "    # Position transistors\n",
    "    spacing = pdk.util_max_metal_seperation() + m2.size[0]\n",
    "    m7.movex(6 * spacing)\n",
    "    m3.movex(2 * spacing)\n",
    "    m4.movex(3 * spacing)\n",
    "    m5.movex(4 * spacing)\n",
    "    m6.movex(5 * spacing)\n",
    "    m8.movex(spacing)\n",
    "\n",
    "    # Routing\n",
    "    # Connect transmission gates\n",
    "    latch << straight_route(pdk, m2.ports[\"multiplier_0_drain_E\"], m8.ports[\"multiplier_0_source_E\"])\n",
    "    latch << straight_route(pdk, m7.ports[\"multiplier_0_drain_E\"], m6.ports[\"multiplier_0_source_E\"])\n",
    "\n",
    "    # Connect current mirror\n",
    "    latch << straight_route(pdk, m3.ports[\"multiplier_0_drain_E\"], m4.ports[\"multiplier_0_drain_E\"])\n",
    "    latch << straight_route(pdk, m4.ports[\"multiplier_0_drain_E\"], m5.ports[\"multiplier_0_drain_E\"])\n",
    "    latch << straight_route(pdk, m3.ports[\"multiplier_0_gate_E\"], m4.ports[\"multiplier_0_gate_E\"])\n",
    "    latch << straight_route(pdk, m4.ports[\"multiplier_0_gate_E\"], m5.ports[\"multiplier_0_gate_E\"])\n",
    "\n",
    "    # Connect cross-coupled inverters\n",
    "    latch << c_route(pdk, m6.ports[\"multiplier_0_drain_E\"], m8.ports[\"multiplier_0_gate_E\"])\n",
    "    latch << c_route(pdk, m8.ports[\"multiplier_0_drain_E\"], m6.ports[\"multiplier_0_gate_E\"])\n",
    "\n",
    "    # Connect to current mirror\n",
    "    latch << straight_route(pdk, m6.ports[\"multiplier_0_source_E\"], m5.ports[\"multiplier_0_drain_E\"])\n",
    "    latch << straight_route(pdk, m8.ports[\"multiplier_0_source_E\"], m5.ports[\"multiplier_0_drain_E\"])\n",
    "\n",
    "    # Add ports\n",
    "    latch.add_port(\"D\", port=m2.ports[\"multiplier_0_source_E\"])\n",
    "    latch.add_port(\"Dp\", port=m7.ports[\"multiplier_0_source_E\"])\n",
    "    latch.add_port(\"CLK\", port=m2.ports[\"multiplier_0_gate_E\"])\n",
    "    latch.add_port(\"CLKN\", port=m7.ports[\"multiplier_0_gate_E\"])\n",
    "    latch.add_port(\"Q\", port=m6.ports[\"multiplier_0_drain_E\"])\n",
    "    latch.add_port(\"Qp\", port=m8.ports[\"multiplier_0_drain_E\"])\n",
    "    latch.add_port(\"VDD\", port=m3.ports[\"multiplier_0_drain_E\"])\n",
    "    latch.add_port(\"VSS\", port=m5.ports[\"multiplier_0_source_E\"])\n",
    "\n",
    "    return latch\n",
    "\n",
    "def create_divide_by_two_circuit(pdk):\n",
    "    divider = Component(\"divide_by_two\")\n",
    "\n",
    "    # Create two latches\n",
    "    latch1 = divider << create_nmos_latch(pdk)\n",
    "    latch2 = divider << create_nmos_latch(pdk)\n",
    "\n",
    "    # Position second latch below the first\n",
    "    latch2.movey(-latch1.size[1] - pdk.util_max_metal_seperation())\n",
    "\n",
    "    # Connect latches\n",
    "    divider << straight_route(pdk, latch1.ports[\"Q\"], latch2.ports[\"D\"])\n",
    "    divider << straight_route(pdk, latch1.ports[\"Qp\"], latch2.ports[\"Dp\"])\n",
    "\n",
    "    # Feedback connection\n",
    "    divider << c_route(pdk, latch2.ports[\"Q\"], latch1.ports[\"D\"])\n",
    "    divider << c_route(pdk, latch2.ports[\"Qp\"], latch1.ports[\"Dp\"])\n",
    "\n",
    "    # Add circuit ports\n",
    "    divider.add_port(\"CLK\", port=latch1.ports[\"CLK\"])\n",
    "    divider.add_port(\"CLKN\", port=latch1.ports[\"CLKN\"])\n",
    "    divider.add_port(\"OUT\", port=latch2.ports[\"Q\"])\n",
    "    divider.add_port(\"OUT_B\", port=latch2.ports[\"Qp\"])\n",
    "    divider.add_port(\"VDD\", port=latch1.ports[\"VDD\"])\n",
    "    divider.add_port(\"VSS\", port=latch1.ports[\"VSS\"])\n",
    "\n",
    "    # Connect VDD and VSS of both latches\n",
    "    divider << straight_route(pdk, latch1.ports[\"VDD\"], latch2.ports[\"VDD\"])\n",
    "    divider << straight_route(pdk, latch1.ports[\"VSS\"], latch2.ports[\"VSS\"])\n",
    "\n",
    "    return divider\n",
    "\n",
    "# Create the NMOS-only latch layout using sky130 PDK\n",
    "divide_two = create_divide_by_two_circuit(sky130)\n",
    "display_component(divide_two, scale=3)\n",
    "divide_two.write_gds(\"divide_two.gds\")"
   ]
  }
 ],
 "metadata": {
  "colab": {
   "provenance": []
  },
  "kernelspec": {
   "display_name": "Python 3",
   "name": "python3"
  },
  "language_info": {
   "name": "python"
  }
 },
 "nbformat": 4,
 "nbformat_minor": 0
}
