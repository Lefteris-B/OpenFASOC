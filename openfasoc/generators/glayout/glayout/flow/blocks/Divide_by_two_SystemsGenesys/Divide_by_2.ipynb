{
 "cells": [
  {
   "cell_type": "markdown",
   "metadata": {},
   "source": [
    "Python Code Overview\n",
    "The Python code in this Jupyter notebook builds and places components in the divide-by-2 circuit using the sky130 PDK and gdsfactory layout library.\n",
    "\n",
    "create_nmos_latch Function: Defines a single NMOS-based latch with eight NMOS transistors. Transistors are arranged in the current mirror, transmission gate, and cross-coupled inverter configurations. The function:\n",
    "\n",
    "Creates NMOS transistors with specific widths and lengths.\n",
    "Positions and connects these transistors using both straight and C-routes for proper wiring.\n",
    "Adds ports for input (D, Dp), clock (CLK, CLKN), output (Q, Qp), and power (VDD, VSS).\n",
    "create_divide_by_two_circuit Function: Builds the entire divide-by-2 circuit by instantiating two NMOS latches.\n",
    "\n",
    "Places the second latch below the first latch with adequate separation.\n",
    "Connects the output of the first latch to the input of the second and vice versa (feedback).\n",
    "Adds ports for the clock (CLK, CLKN), output (OUT, OUT_B), and power (VDD, VSS).\n",
    "Connects power ports of both latches to ensure consistent power distribution.\n",
    "Circuit Display and GDS Export:\n",
    "\n",
    "After creating the divide-by-two component, display_component shows a scaled view of the component.\n",
    "The component is written to a GDS file, divide_two.gds, for further physical verification and layout."
   ]
  },
  {
   "cell_type": "code",
   "execution_count": null,
   "metadata": {
    "colab": {
     "base_uri": "https://localhost:8080/",
     "height": 1000
    },
    "id": "z1O_2qcOtc4u",
    "outputId": "de5c1dbc-10c3-4c4c-a1df-a9adc300b7f7"
   },
   "outputs": [
    {
     "name": "stdout",
     "output_type": "stream",
     "text": [
      "Cloning into 'OpenFASOC'...\n",
      "remote: Enumerating objects: 16501, done.\u001b[K\n",
      "remote: Counting objects: 100% (3736/3736), done.\u001b[K\n",
      "remote: Compressing objects: 100% (531/531), done.\u001b[K\n",
      "remote: Total 16501 (delta 3312), reused 3403 (delta 3200), pack-reused 12765 (from 1)\u001b[K\n",
      "Receiving objects: 100% (16501/16501), 410.32 MiB | 4.33 MiB/s, done.\n",
      "Resolving deltas: 100% (10107/10107), done.\n",
      "Updating files: 100% (1849/1849), done.\n",
      "Collecting sky130\n",
      "  Downloading sky130-0.12.2-py3-none-any.whl.metadata (1.6 kB)\n",
      "Collecting gdsfactory~=8.5.2 (from sky130)\n",
      "  Downloading gdsfactory-8.5.6-py3-none-any.whl.metadata (11 kB)\n",
      "Collecting PySpice (from sky130)\n",
      "  Downloading PySpice-1.5-py2.py3-none-any.whl.metadata (15 kB)\n",
      "Requirement already satisfied: jinja2<4 in /home/iamme/anaconda3/lib/python3.11/site-packages (from gdsfactory~=8.5.2->sky130) (3.1.3)\n",
      "Collecting loguru<1 (from gdsfactory~=8.5.2->sky130)\n",
      "  Downloading loguru-0.7.2-py3-none-any.whl.metadata (23 kB)\n",
      "Requirement already satisfied: matplotlib<4 in /home/iamme/anaconda3/lib/python3.11/site-packages (from gdsfactory~=8.5.2->sky130) (3.8.0)\n",
      "Requirement already satisfied: numpy<2 in /home/iamme/anaconda3/lib/python3.11/site-packages (from gdsfactory~=8.5.2->sky130) (1.23.5)\n",
      "Collecting omegaconf<3 (from gdsfactory~=8.5.2->sky130)\n",
      "  Downloading omegaconf-2.3.0-py3-none-any.whl.metadata (3.9 kB)\n",
      "Collecting orjson<4 (from gdsfactory~=8.5.2->sky130)\n",
      "  Downloading orjson-3.10.12-cp311-cp311-manylinux_2_17_x86_64.manylinux2014_x86_64.whl.metadata (41 kB)\n",
      "Requirement already satisfied: pandas<3 in /home/iamme/anaconda3/lib/python3.11/site-packages (from gdsfactory~=8.5.2->sky130) (2.1.4)\n",
      "Collecting pydantic<2.9,>=2.8.2 (from gdsfactory~=8.5.2->sky130)\n",
      "  Downloading pydantic-2.8.2-py3-none-any.whl.metadata (125 kB)\n",
      "Collecting pydantic-settings<3 (from gdsfactory~=8.5.2->sky130)\n",
      "  Downloading pydantic_settings-2.6.1-py3-none-any.whl.metadata (3.5 kB)\n",
      "Collecting pydantic-extra-types<3 (from gdsfactory~=8.5.2->sky130)\n",
      "  Downloading pydantic_extra_types-2.10.0-py3-none-any.whl.metadata (3.5 kB)\n",
      "Requirement already satisfied: pyyaml in /home/iamme/anaconda3/lib/python3.11/site-packages (from gdsfactory~=8.5.2->sky130) (6.0.1)\n",
      "Collecting qrcode (from gdsfactory~=8.5.2->sky130)\n",
      "  Downloading qrcode-8.0-py3-none-any.whl.metadata (17 kB)\n",
      "Collecting rectpack<1 (from gdsfactory~=8.5.2->sky130)\n",
      "  Downloading rectpack-0.2.2.tar.gz (17 kB)\n",
      "  Preparing metadata (setup.py) ... \u001b[?25lerror\n",
      "  \u001b[1;31merror\u001b[0m: \u001b[1msubprocess-exited-with-error\u001b[0m\n",
      "  \n",
      "  \u001b[31m×\u001b[0m \u001b[32mpython setup.py egg_info\u001b[0m did not run successfully.\n",
      "  \u001b[31m│\u001b[0m exit code: \u001b[1;36m1\u001b[0m\n",
      "  \u001b[31m╰─>\u001b[0m \u001b[31m[1 lines of output]\u001b[0m\n",
      "  \u001b[31m   \u001b[0m ERROR: Can not execute `setup.py` since setuptools is not available in the build environment.\n",
      "  \u001b[31m   \u001b[0m \u001b[31m[end of output]\u001b[0m\n",
      "  \n",
      "  \u001b[1;35mnote\u001b[0m: This error originates from a subprocess, and is likely not a problem with pip.\n",
      "\u001b[1;31merror\u001b[0m: \u001b[1mmetadata-generation-failed\u001b[0m\n",
      "\n",
      "\u001b[31m×\u001b[0m Encountered error while generating package metadata.\n",
      "\u001b[31m╰─>\u001b[0m See above for output.\n",
      "\n",
      "\u001b[1;35mnote\u001b[0m: This is an issue with the package mentioned above, not pip.\n",
      "\u001b[1;36mhint\u001b[0m: See above for details.\n",
      "\u001b[?25h"
     ]
    }
   ],
   "source": [
    "# Setup the environment for the OpenFASOC GDSFactory generator\n",
    "# You only need to run this block once!\n",
    "\n",
    "# Clone OpenFASoC\n",
    "!git clone https://github.com/idea-fasoc/OpenFASOC\n",
    "# Install python dependencies\n",
    "!pip install sky130\n",
    "!pip install gf180 prettyprinttree svgutils\n",
    "!pip install gdsfactory==7.7.0\n",
    "\n",
    "import pathlib\n",
    "import os\n",
    "# Install KLayout (via conda)\n",
    "!curl -Ls https://micro.mamba.pm/api/micromamba/linux-64/latest | tar -xvj bin/micromamba\n",
    "conda_prefix_path = pathlib.Path('conda-env')\n",
    "CONDA_PREFIX = str(conda_prefix_path.resolve())\n",
    "%env CONDA_PREFIX={CONDA_PREFIX}\n",
    "\n",
    "!bin/micromamba create --yes --prefix $CONDA_PREFIX\n",
    "# Install from the litex-hub channel\n",
    "!bin/micromamba install --yes --prefix $CONDA_PREFIX \\\n",
    "                        --channel litex-hub \\\n",
    "                        --channel main \\\n",
    "                        klayout"
   ]
  },
  {
   "cell_type": "code",
   "execution_count": null,
   "metadata": {
    "colab": {
     "base_uri": "https://localhost:8080/"
    },
    "id": "Q42D2FwTtnep",
    "outputId": "45ddb2d1-201d-48b4-fd4e-971eb031653a"
   },
   "outputs": [],
   "source": [
    "# Setup the environment for the OpenFASOC GDSFactory generator\n",
    "\n",
    "# Adding micro-mamba binary directory to the PATH\n",
    "# This directory contains Klayout\n",
    "import pathlib\n",
    "import os\n",
    "conda_prefix_path = pathlib.Path('conda-env')\n",
    "CONDA_PREFIX = str(conda_prefix_path.resolve())\n",
    "%env CONDA_PREFIX={CONDA_PREFIX}\n",
    "# Add conda packages to the PATH\n",
    "PATH = os.environ['PATH']\n",
    "%env PATH={PATH}:{CONDA_PREFIX}/bin\n",
    "\n",
    "%cd /content/OpenFASOC/openfasoc/generators/glayout"
   ]
  },
  {
   "cell_type": "code",
   "execution_count": null,
   "metadata": {
    "colab": {
     "base_uri": "https://localhost:8080/"
    },
    "id": "QBLvF3RmWLDs",
    "outputId": "27d018d3-00c6-4d38-e779-6ecf4e9c2b4f"
   },
   "outputs": [],
   "source": [
    "%cd /content/OpenFASOC/openfasoc/generators/glayout\n",
    "!pip install -e ."
   ]
  },
  {
   "cell_type": "code",
   "execution_count": null,
   "metadata": {
    "colab": {
     "base_uri": "https://localhost:8080/"
    },
    "id": "7PzrVo7iW1Jf",
    "outputId": "adc44ea6-1e71-423a-94f8-b877a5ea7309"
   },
   "outputs": [],
   "source": [
    "!pip show glayout"
   ]
  },
  {
   "cell_type": "code",
   "execution_count": null,
   "metadata": {
    "id": "QoIgABmKWS6h"
   },
   "outputs": [],
   "source": [
    "import glayout"
   ]
  },
  {
   "cell_type": "code",
   "execution_count": null,
   "metadata": {
    "id": "WyTs66GIwOdh"
   },
   "outputs": [],
   "source": [
    "from latch_design import create_nmos_latch_layout\n",
    "from divide_by_two import create_divide_by_two_circuit\n",
    "from glayout.flow.pdk.sky130_mapped import sky130_mapped_pdk as sky130\n",
    "import gdstk\n",
    "import svgutils.transform as sg\n",
    "import IPython.display\n",
    "from IPython.display import clear_output\n",
    "import ipywidgets as widgets\n",
    "\n",
    "# Redirect all outputs here\n",
    "hide = widgets.Output()\n",
    "\n",
    "def display_gds(gds_file, scale = 3):\n",
    "  # Generate an SVG image\n",
    "  top_level_cell = gdstk.read_gds(gds_file).top_level()[0]\n",
    "  top_level_cell.write_svg('out.svg')\n",
    "  # Scale the image for displaying\n",
    "  fig = sg.fromfile('out.svg')\n",
    "  fig.set_size((str(float(fig.width) * scale), str(float(fig.height) * scale)))\n",
    "  fig.save('out.svg')\n",
    "\n",
    "  # Display the image\n",
    "  IPython.display.display(IPython.display.SVG('out.svg'))\n",
    "\n",
    "def display_component(component, scale = 3):\n",
    "  # Save to a GDS file\n",
    "  with hide:\n",
    "    component.write_gds(\"out.gds\")\n",
    "  display_gds('out.gds', scale)\n"
   ]
  },
  {
   "cell_type": "code",
   "execution_count": null,
   "metadata": {},
   "outputs": [],
   "source": [
    "# Create and display the designs\n",
    "latch = create_nmos_latch_layout(sky130)\n",
    "display_component(latch, scale=3)\n",
    "\n",
    "divider = create_divide_by_two_circuit(sky130)\n",
    "display_component(divider, scale=3)\n",
    "\n",
    "# Save GDS files\n",
    "latch.write_gds(\"latch.gds\")\n",
    "divider.write_gds(\"divide_two.gds\")"
   ]
  }
 ],
 "metadata": {
  "colab": {
   "provenance": []
  },
  "kernelspec": {
   "display_name": "Python 3 (ipykernel)",
   "language": "python",
   "name": "python3"
  },
  "language_info": {
   "codemirror_mode": {
    "name": "ipython",
    "version": 3
   },
   "file_extension": ".py",
   "mimetype": "text/x-python",
   "name": "python",
   "nbconvert_exporter": "python",
   "pygments_lexer": "ipython3",
   "version": "3.11.5"
  }
 },
 "nbformat": 4,
 "nbformat_minor": 4
}
